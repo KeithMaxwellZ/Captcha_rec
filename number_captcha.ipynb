{
 "cells": [
  {
   "cell_type": "code",
   "execution_count": 137,
   "metadata": {
    "collapsed": true,
    "pycharm": {
     "name": "#%%\n"
    }
   },
   "outputs": [],
   "source": [
    "import numpy as np\n",
    "import tensorflow as tf\n",
    "\n",
    "from matplotlib.pyplot import imshow\n",
    "\n",
    "from tensorflow.keras.layers import *\n",
    "from tensorflow.keras import Model\n",
    "\n",
    "from PIL import Image\n",
    "\n",
    "from captcha.image import ImageCaptcha, random_color\n",
    "import random\n",
    "\n",
    "from tqdm import tqdm"
   ]
  },
  {
   "cell_type": "code",
   "execution_count": 138,
   "outputs": [],
   "source": [
    "CAPTCHA_LEN = 4\n",
    "BIN_LEN = 4\n",
    "IMG_H = 60\n",
    "IMG_W = 160"
   ],
   "metadata": {
    "collapsed": false,
    "pycharm": {
     "name": "#%%\n"
    }
   }
  },
  {
   "cell_type": "code",
   "execution_count": 139,
   "outputs": [
    {
     "name": "stdout",
     "output_type": "stream",
     "text": [
      "2834\n"
     ]
    }
   ],
   "source": [
    "def num2vec(raw_num: str):\n",
    "    \"\"\"\n",
    "    Convert a number captcha to vector with length CAPTCHA_LEN * BIN_LEN\n",
    "    :param raw_num: number for conversion\n",
    "    :return: converted vector\n",
    "    \"\"\"\n",
    "    res = \"\"\n",
    "    for i in raw_num:\n",
    "        res += format(int(i), '04b')\n",
    "\n",
    "    lst = []\n",
    "    for i in res:\n",
    "        lst.append(int(i))\n",
    "    return lst\n",
    "\n",
    "def vec2num(raw_lst: list):\n",
    "    \"\"\"\n",
    "    Convert a vector to number\n",
    "    :param raw_lst:\n",
    "    :return:\n",
    "    \"\"\"\n",
    "    p = 0\n",
    "    r = \"\"\n",
    "    while p < len(raw_lst):\n",
    "        t = raw_lst[p:p+BIN_LEN]\n",
    "        ts = \"\"\n",
    "        for i in t:\n",
    "            if i > 0:\n",
    "                ts += \"1\"\n",
    "            else:\n",
    "                ts += \"0\"\n",
    "        p += 4\n",
    "        r += str(int(ts, 2))\n",
    "\n",
    "    print(r)\n",
    "    return r\n",
    "\n",
    "r1 = num2vec(\"2834\")\n",
    "r2 = vec2num(r1)"
   ],
   "metadata": {
    "collapsed": false,
    "pycharm": {
     "name": "#%%\n"
    }
   }
  },
  {
   "cell_type": "code",
   "execution_count": 140,
   "outputs": [],
   "source": [
    "def captcha_gen() -> [Image, str]:\n",
    "    image_c = ImageCaptcha()\n",
    "    val = str(random.randint(1000, 9999))\n",
    "    img = image_c.create_captcha_image(val, color=random_color(0, 125), background=random_color(126, 255))\n",
    "    image_c.create_noise_dots(img, color=random_color(0, 255))\n",
    "    image_c.create_noise_curve(img, color=random_color(0, 255))\n",
    "    nparr = np.array(img)\n",
    "    return nparr, val"
   ],
   "metadata": {
    "collapsed": false,
    "pycharm": {
     "name": "#%%\n"
    }
   }
  },
  {
   "cell_type": "code",
   "execution_count": 141,
   "outputs": [
    {
     "data": {
      "text/plain": "[0, 1, 1, 1, 0, 1, 0, 0, 0, 1, 0, 1, 0, 0, 1, 1]"
     },
     "execution_count": 141,
     "metadata": {},
     "output_type": "execute_result"
    }
   ],
   "source": [
    "# Test\n",
    "img, text = captcha_gen()\n",
    "num2vec(text)"
   ],
   "metadata": {
    "collapsed": false,
    "pycharm": {
     "name": "#%%\n"
    }
   }
  },
  {
   "cell_type": "code",
   "execution_count": 142,
   "outputs": [],
   "source": [
    "def batch_gen(size=128):\n",
    "    batch_x = np.zeros([size, IMG_H, IMG_W, 1])\n",
    "    batch_y = np.zeros([size, CAPTCHA_LEN * BIN_LEN])\n",
    "\n",
    "    for i in range(size):\n",
    "        img, text = captcha_gen()\n",
    "        while img.shape != (IMG_H, IMG_W, 3):\n",
    "            img, text = captcha_gen()\n",
    "        gray = np.mean(img, -1, keepdims=True)\n",
    "        batch_x[i,:] = gray / 255\n",
    "        batch_y[i,:] = num2vec(text)\n",
    "    return batch_x, batch_y\n",
    "\n",
    "x, y = batch_gen(128)"
   ],
   "metadata": {
    "collapsed": false,
    "pycharm": {
     "name": "#%%\n"
    }
   }
  },
  {
   "cell_type": "code",
   "execution_count": 143,
   "outputs": [
    {
     "name": "stdout",
     "output_type": "stream",
     "text": [
      "(128, 60, 160, 1)\n",
      "(128, 16)\n"
     ]
    }
   ],
   "source": [
    "print(x.shape)\n",
    "print(y.shape)"
   ],
   "metadata": {
    "collapsed": false,
    "pycharm": {
     "name": "#%%\n"
    }
   }
  },
  {
   "cell_type": "code",
   "execution_count": null,
   "outputs": [],
   "source": [
    "train_batch = 10\n",
    "test_batch = 1\n",
    "batch_size = 128\n",
    "\n",
    "train_X = []\n",
    "train_Y = []\n",
    "\n",
    "test_X = []\n",
    "test_Y = []\n",
    "\n",
    "for i in range(train_batch):\n",
    "    tx, ty = batch_gen(batch_size)\n",
    "    train_X.extend(tx)\n",
    "    train_Y.extend(ty)\n",
    "\n",
    "for i in range(test_batch):\n",
    "    tx, ty = batch_gen(batch_size)\n",
    "    test_X.extend(tx)\n",
    "    test_Y.extend(ty)\n",
    "\n",
    "train_X = np.array(train_X)\n",
    "train_Y = np.array(train_Y)\n",
    "test_X = np.array(test_X)\n",
    "test_Y = np.array(test_Y)"
   ],
   "metadata": {
    "collapsed": false,
    "pycharm": {
     "name": "#%%\n"
    }
   }
  },
  {
   "cell_type": "code",
   "execution_count": null,
   "outputs": [],
   "source": [
    "print(train_X.shape)\n",
    "print(train_Y.shape)\n",
    "print(test_X.shape)\n",
    "print(test_Y.shape)"
   ],
   "metadata": {
    "collapsed": false,
    "pycharm": {
     "name": "#%%\n"
    }
   }
  },
  {
   "cell_type": "code",
   "execution_count": 168,
   "outputs": [],
   "source": [
    "class MyModel(Model):\n",
    "    def __init__(self):\n",
    "        super(MyModel, self).__init__()\n",
    "        self.conv1 = Conv2D(32, 3, activation='relu')\n",
    "        self.pool1 = MaxPooling2D((2,2))\n",
    "        self.flatten = Flatten()\n",
    "        self.d1 = Dense(128, activation='relu')\n",
    "        self.d2 = Dense(CAPTCHA_LEN * BIN_LEN)\n",
    "\n",
    "    def call(self, x):\n",
    "        x = self.conv1(x)\n",
    "        x = self.pool1(x)\n",
    "        x = self.flatten(x)\n",
    "        x = self.d1(x)\n",
    "        x = self.d2(x)\n",
    "        return x\n",
    "\n",
    "model = MyModel()"
   ],
   "metadata": {
    "collapsed": false,
    "pycharm": {
     "name": "#%%\n"
    }
   }
  },
  {
   "cell_type": "code",
   "execution_count": 174,
   "outputs": [],
   "source": [
    "loss_object = tf.keras.losses.CategoricalCrossentropy(from_logits=True)\n",
    "\n",
    "optimizer = tf.keras.optimizers.Adam()"
   ],
   "metadata": {
    "collapsed": false,
    "pycharm": {
     "name": "#%%\n"
    }
   }
  },
  {
   "cell_type": "code",
   "execution_count": 175,
   "outputs": [],
   "source": [
    "train_loss = tf.keras.metrics.Mean(name='train_loss')\n",
    "train_accuracy = tf.keras.metrics.CategoricalCrossentropy(name='train_accuracy')\n",
    "\n",
    "test_loss = tf.keras.metrics.Mean(name='test_loss')\n",
    "test_accuracy = tf.keras.metrics.CategoricalCrossentropy(name='test_accuracy')"
   ],
   "metadata": {
    "collapsed": false,
    "pycharm": {
     "name": "#%%\n"
    }
   }
  },
  {
   "cell_type": "code",
   "execution_count": 176,
   "outputs": [],
   "source": [
    "@tf.function\n",
    "def train_step(images, labels):\n",
    "  with tf.GradientTape() as tape:\n",
    "    # training=True is only needed if there are layers with different\n",
    "    # behavior during training versus inference (e.g. Dropout).\n",
    "    predictions = model(images, training=True)\n",
    "    print(labels)\n",
    "    print(predictions)\n",
    "    loss = loss_object(labels, predictions)\n",
    "  gradients = tape.gradient(loss, model.trainable_variables)\n",
    "  optimizer.apply_gradients(zip(gradients, model.trainable_variables))\n",
    "\n",
    "  train_loss(loss)\n",
    "  train_accuracy(labels, predictions)"
   ],
   "metadata": {
    "collapsed": false,
    "pycharm": {
     "name": "#%%\n"
    }
   }
  },
  {
   "cell_type": "code",
   "execution_count": 177,
   "outputs": [],
   "source": [
    "@tf.function\n",
    "def test_step(images, labels):\n",
    "  # training=False is only needed if there are layers with different\n",
    "  # behavior during training versus inference (e.g. Dropout).\n",
    "  predictions = model(images, training=False)\n",
    "  t_loss = loss_object(labels, predictions)\n",
    "\n",
    "  test_loss(t_loss)\n",
    "  test_accuracy(labels, predictions)"
   ],
   "metadata": {
    "collapsed": false,
    "pycharm": {
     "name": "#%%\n"
    }
   }
  },
  {
   "cell_type": "code",
   "execution_count": 178,
   "outputs": [
    {
     "name": "stdout",
     "output_type": "stream",
     "text": [
      "Tensor(\"labels:0\", shape=(1280, 16), dtype=float64)\n",
      "Tensor(\"my_model_10/dense_19/BiasAdd:0\", shape=(1280, 16), dtype=float32)\n",
      "Tensor(\"labels:0\", shape=(1280, 16), dtype=float64)\n",
      "Tensor(\"my_model_10/dense_19/BiasAdd:0\", shape=(1280, 16), dtype=float32)\n",
      "Epoch 1, Loss: 17.28870964050293, Accuracy: 5551.50244140625, Test Loss: 56.93853759765625, Test Accuracy: 2249.61669921875\n",
      "Epoch 2, Loss: 58.1530876159668, Accuracy: 2339.409423828125, Test Loss: 56.9141845703125, Test Accuracy: 1806.8031005859375\n",
      "Epoch 3, Loss: 58.22456741333008, Accuracy: 1825.0274658203125, Test Loss: 72.91291046142578, Test Accuracy: 1793.917236328125\n",
      "Epoch 4, Loss: 74.10957336425781, Accuracy: 1807.146484375, Test Loss: 92.35397338867188, Test Accuracy: 1773.2412109375\n",
      "Epoch 5, Loss: 93.85941314697266, Accuracy: 1785.234130859375, Test Loss: 109.14305114746094, Test Accuracy: 1756.32177734375\n"
     ]
    }
   ],
   "source": [
    "EPOCHS = 5\n",
    "epoch = 0\n",
    "for epoch in range(EPOCHS):\n",
    "    # Reset\n",
    "    train_loss.reset_states()\n",
    "    train_accuracy.reset_states()\n",
    "    test_loss.reset_states()\n",
    "    test_accuracy.reset_states()\n",
    "\n",
    "    train_step(train_X, train_Y)\n",
    "\n",
    "    test_step(test_X, test_Y)\n",
    "\n",
    "    print(\n",
    "    f'Epoch {epoch + 1}, '\n",
    "    f'Loss: {train_loss.result()}, '\n",
    "    f'Accuracy: {train_accuracy.result() * 100}, '\n",
    "    f'Test Loss: {test_loss.result()}, '\n",
    "    f'Test Accuracy: {test_accuracy.result() * 100}'\n",
    "    )"
   ],
   "metadata": {
    "collapsed": false,
    "pycharm": {
     "name": "#%%\n"
    }
   }
  },
  {
   "cell_type": "code",
   "execution_count": null,
   "outputs": [],
   "source": [],
   "metadata": {
    "collapsed": false,
    "pycharm": {
     "name": "#%%\n"
    }
   }
  }
 ],
 "metadata": {
  "kernelspec": {
   "display_name": "Python 3",
   "language": "python",
   "name": "python3"
  },
  "language_info": {
   "codemirror_mode": {
    "name": "ipython",
    "version": 2
   },
   "file_extension": ".py",
   "mimetype": "text/x-python",
   "name": "python",
   "nbconvert_exporter": "python",
   "pygments_lexer": "ipython2",
   "version": "2.7.6"
  }
 },
 "nbformat": 4,
 "nbformat_minor": 0
}