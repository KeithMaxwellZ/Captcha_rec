{
 "cells": [
  {
   "cell_type": "code",
   "execution_count": 137,
   "metadata": {
    "collapsed": true,
    "pycharm": {
     "name": "#%%\n"
    }
   },
   "outputs": [],
   "source": [
    "import numpy as np\n",
    "import tensorflow as tf\n",
    "\n",
    "from matplotlib.pyplot import imshow\n",
    "\n",
    "from tensorflow.keras.layers import *\n",
    "from tensorflow.keras import Model\n",
    "\n",
    "from PIL import Image\n",
    "\n",
    "from captcha.image import ImageCaptcha, random_color\n",
    "import random\n",
    "\n",
    "from tqdm import tqdm"
   ]
  },
  {
   "cell_type": "code",
   "execution_count": 138,
   "outputs": [],
   "source": [
    "CAPTCHA_LEN = 4\n",
    "BIN_LEN = 4\n",
    "IMG_H = 60\n",
    "IMG_W = 160"
   ],
   "metadata": {
    "collapsed": false,
    "pycharm": {
     "name": "#%%\n"
    }
   }
  },
  {
   "cell_type": "code",
   "execution_count": 139,
   "outputs": [
    {
     "name": "stdout",
     "output_type": "stream",
     "text": [
      "2834\n"
     ]
    }
   ],
   "source": [
    "def num2vec(raw_num: str):\n",
    "    \"\"\"\n",
    "    Convert a number captcha to vector with length CAPTCHA_LEN * BIN_LEN\n",
    "    :param raw_num: number for conversion\n",
    "    :return: converted vector\n",
    "    \"\"\"\n",
    "    res = \"\"\n",
    "    for i in raw_num:\n",
    "        res += format(int(i), '04b')\n",
    "\n",
    "    lst = []\n",
    "    for i in res:\n",
    "        lst.append(int(i))\n",
    "    return lst\n",
    "\n",
    "def vec2num(raw_lst: list):\n",
    "    \"\"\"\n",
    "    Convert a vector to number\n",
    "    :param raw_lst:\n",
    "    :return:\n",
    "    \"\"\"\n",
    "    p = 0\n",
    "    r = \"\"\n",
    "    while p < len(raw_lst):\n",
    "        t = raw_lst[p:p+BIN_LEN]\n",
    "        ts = \"\"\n",
    "        for i in t:\n",
    "            if i > 0:\n",
    "                ts += \"1\"\n",
    "            else:\n",
    "                ts += \"0\"\n",
    "        p += 4\n",
    "        r += str(int(ts, 2))\n",
    "\n",
    "    print(r)\n",
    "    return r\n",
    "\n",
    "r1 = num2vec(\"2834\")\n",
    "r2 = vec2num(r1)"
   ],
   "metadata": {
    "collapsed": false,
    "pycharm": {
     "name": "#%%\n"
    }
   }
  },
  {
   "cell_type": "code",
   "execution_count": 140,
   "outputs": [],
   "source": [
    "def captcha_gen() -> [Image, str]:\n",
    "    image_c = ImageCaptcha()\n",
    "    val = str(random.randint(1000, 9999))\n",
    "    img = image_c.create_captcha_image(val, color=random_color(0, 125), background=random_color(126, 255))\n",
    "    image_c.create_noise_dots(img, color=random_color(0, 255))\n",
    "    image_c.create_noise_curve(img, color=random_color(0, 255))\n",
    "    nparr = np.array(img)\n",
    "    return nparr, val"
   ],
   "metadata": {
    "collapsed": false,
    "pycharm": {
     "name": "#%%\n"
    }
   }
  },
  {
   "cell_type": "code",
   "execution_count": 141,
   "outputs": [
    {
     "data": {
      "text/plain": "[0, 1, 1, 1, 0, 1, 0, 0, 0, 1, 0, 1, 0, 0, 1, 1]"
     },
     "execution_count": 141,
     "metadata": {},
     "output_type": "execute_result"
    }
   ],
   "source": [
    "# Test\n",
    "img, text = captcha_gen()\n",
    "num2vec(text)"
   ],
   "metadata": {
    "collapsed": false,
    "pycharm": {
     "name": "#%%\n"
    }
   }
  },
  {
   "cell_type": "code",
   "execution_count": 142,
   "outputs": [],
   "source": [
    "def batch_gen(size=128):\n",
    "    batch_x = np.zeros([size, IMG_H, IMG_W, 1])\n",
    "    batch_y = np.zeros([size, CAPTCHA_LEN * BIN_LEN])\n",
    "\n",
    "    for i in range(size):\n",
    "        img, text = captcha_gen()\n",
    "        while img.shape != (IMG_H, IMG_W, 3):\n",
    "            img, text = captcha_gen()\n",
    "        gray = np.mean(img, -1, keepdims=True)\n",
    "        batch_x[i,:] = gray / 255\n",
    "        batch_y[i,:] = num2vec(text)\n",
    "    return batch_x, batch_y\n",
    "\n",
    "x, y = batch_gen(128)"
   ],
   "metadata": {
    "collapsed": false,
    "pycharm": {
     "name": "#%%\n"
    }
   }
  },
  {
   "cell_type": "code",
   "execution_count": 143,
   "outputs": [
    {
     "name": "stdout",
     "output_type": "stream",
     "text": [
      "(128, 60, 160, 1)\n",
      "(128, 16)\n"
     ]
    }
   ],
   "source": [
    "print(x.shape)\n",
    "print(y.shape)"
   ],
   "metadata": {
    "collapsed": false,
    "pycharm": {
     "name": "#%%\n"
    }
   }
  },
  {
   "cell_type": "code",
   "execution_count": null,
   "outputs": [],
   "source": [
    "train_batch = 10\n",
    "test_batch = 1\n",
    "batch_size = 128\n",
    "\n",
    "train_X = []\n",
    "train_Y = []\n",
    "\n",
    "test_X = []\n",
    "test_Y = []\n",
    "\n",
    "for i in range(train_batch):\n",
    "    tx, ty = batch_gen(batch_size)\n",
    "    train_X.extend(tx)\n",
    "    train_Y.extend(ty)\n",
    "\n",
    "for i in range(test_batch):\n",
    "    tx, ty = batch_gen(batch_size)\n",
    "    test_X.extend(tx)\n",
    "    test_Y.extend(ty)\n",
    "\n",
    "train_X = np.array(train_X)\n",
    "train_Y = np.array(train_Y)\n",
    "test_X = np.array(test_X)\n",
    "test_Y = np.array(test_Y)"
   ],
   "metadata": {
    "collapsed": false,
    "pycharm": {
     "name": "#%%\n"
    }
   }
  },
  {
   "cell_type": "code",
   "execution_count": null,
   "outputs": [],
   "source": [
    "print(train_X.shape)\n",
    "print(train_Y.shape)\n",
    "print(test_X.shape)\n",
    "print(test_Y.shape)"
   ],
   "metadata": {
    "collapsed": false,
    "pycharm": {
     "name": "#%%\n"
    }
   }
  },
  {
   "cell_type": "code",
   "execution_count": 168,
   "outputs": [],
   "source": [
    "class MyModel(Model):\n",
    "    def __init__(self):\n",
    "        super(MyModel, self).__init__()\n",
    "        self.conv1 = Conv2D(32, 3, activation='relu')\n",
    "        self.pool1 = MaxPooling2D((2,2))\n",
    "        self.flatten = Flatten()\n",
    "        self.d1 = Dense(128, activation='relu')\n",
    "        self.d2 = Dense(CAPTCHA_LEN * BIN_LEN)\n",
    "\n",
    "    def call(self, x):\n",
    "        x = self.conv1(x)\n",
    "        x = self.pool1(x)\n",
    "        x = self.flatten(x)\n",
    "        x = self.d1(x)\n",
    "        x = self.d2(x)\n",
    "        return x\n",
    "\n",
    "model = MyModel()"
   ],
   "metadata": {
    "collapsed": false,
    "pycharm": {
     "name": "#%%\n"
    }
   }
  },
  {
   "cell_type": "code",
   "execution_count": 174,
   "outputs": [],
   "source": [
    "loss_object = tf.keras.losses.CategoricalCrossentropy(from_logits=True)\n",
    "\n",
    "optimizer = tf.keras.optimizers.Adam()"
   ],
   "metadata": {
    "collapsed": false,
    "pycharm": {
     "name": "#%%\n"
    }
   }
  },
  {
   "cell_type": "code",
   "execution_count": 183,
   "outputs": [],
   "source": [
    "train_loss = tf.keras.metrics.Mean(name='train_loss')\n",
    "train_accuracy = tf.keras.metrics.CategoricalCrossentropy(name='train_accuracy')\n",
    "\n",
    "test_loss = tf.keras.metrics.Mean(name='test_loss')\n",
    "test_accuracy = tf.keras.metrics.CategoricalCrossentropy(name='test_accuracy')"
   ],
   "metadata": {
    "collapsed": false,
    "pycharm": {
     "name": "#%%\n"
    }
   }
  },
  {
   "cell_type": "code",
   "execution_count": 184,
   "outputs": [],
   "source": [
    "@tf.function\n",
    "def train_step(images, labels):\n",
    "  with tf.GradientTape() as tape:\n",
    "    # training=True is only needed if there are layers with different\n",
    "    # behavior during training versus inference (e.g. Dropout).\n",
    "    predictions = model(images, training=True)\n",
    "    print(labels)\n",
    "    print(predictions)\n",
    "    loss = loss_object(labels, predictions)\n",
    "  gradients = tape.gradient(loss, model.trainable_variables)\n",
    "  optimizer.apply_gradients(zip(gradients, model.trainable_variables))\n",
    "\n",
    "  train_loss(loss)\n",
    "  train_accuracy(labels, predictions)"
   ],
   "metadata": {
    "collapsed": false,
    "pycharm": {
     "name": "#%%\n"
    }
   }
  },
  {
   "cell_type": "code",
   "execution_count": 185,
   "outputs": [],
   "source": [
    "@tf.function\n",
    "def test_step(images, labels):\n",
    "  # training=False is only needed if there are layers with different\n",
    "  # behavior during training versus inference (e.g. Dropout).\n",
    "  predictions = model(images, training=False)\n",
    "  t_loss = loss_object(labels, predictions)\n",
    "\n",
    "  test_loss(t_loss)\n",
    "  test_accuracy(labels, predictions)"
   ],
   "metadata": {
    "collapsed": false,
    "pycharm": {
     "name": "#%%\n"
    }
   }
  },
  {
   "cell_type": "code",
   "execution_count": 191,
   "outputs": [
    {
     "name": "stdout",
     "output_type": "stream",
     "text": [
      "Epoch 1, Loss: 222.97543334960938, Accuracy: 1739.8790283203125, Test Loss: 245.7017822265625, Test Accuracy: 1727.0294189453125\n",
      "Epoch 2, Loss: 250.7939910888672, Accuracy: 1737.2030029296875, Test Loss: 271.8764953613281, Test Accuracy: 1724.787109375\n",
      "Epoch 3, Loss: 277.59210205078125, Accuracy: 1734.8133544921875, Test Loss: 300.46484375, Test Accuracy: 1722.939697265625\n",
      "Epoch 4, Loss: 306.7403259277344, Accuracy: 1732.7962646484375, Test Loss: 324.726318359375, Test Accuracy: 1721.20556640625\n",
      "Epoch 5, Loss: 331.60528564453125, Accuracy: 1730.9071044921875, Test Loss: 352.9136657714844, Test Accuracy: 1719.892822265625\n",
      "Epoch 6, Loss: 360.371337890625, Accuracy: 1729.435302734375, Test Loss: 382.95916748046875, Test Accuracy: 1718.780517578125\n",
      "Epoch 7, Loss: 390.99127197265625, Accuracy: 1728.1680908203125, Test Loss: 422.84075927734375, Test Accuracy: 1717.7706298828125\n",
      "Epoch 8, Loss: 431.5359802246094, Accuracy: 1727.0147705078125, Test Loss: 465.60089111328125, Test Accuracy: 1716.88427734375\n",
      "Epoch 9, Loss: 474.99609375, Accuracy: 1725.9996337890625, Test Loss: 515.9901733398438, Test Accuracy: 1715.878662109375\n",
      "Epoch 10, Loss: 526.3316650390625, Accuracy: 1724.9105224609375, Test Loss: 560.1892700195312, Test Accuracy: 1714.828125\n",
      "Epoch 11, Loss: 571.6110229492188, Accuracy: 1723.787353515625, Test Loss: 615.2067260742188, Test Accuracy: 1713.96142578125\n",
      "Epoch 12, Loss: 627.783203125, Accuracy: 1722.85302734375, Test Loss: 659.67724609375, Test Accuracy: 1713.343017578125\n",
      "Epoch 13, Loss: 673.1008911132812, Accuracy: 1722.1258544921875, Test Loss: 706.7200927734375, Test Accuracy: 1712.829345703125\n",
      "Epoch 14, Loss: 720.7618408203125, Accuracy: 1721.46875, Test Loss: 766.2745361328125, Test Accuracy: 1712.0460205078125\n",
      "Epoch 15, Loss: 781.3360595703125, Accuracy: 1720.596923828125, Test Loss: 822.5196533203125, Test Accuracy: 1711.36669921875\n",
      "Epoch 16, Loss: 838.70654296875, Accuracy: 1719.843505859375, Test Loss: 884.38720703125, Test Accuracy: 1710.7916259765625\n",
      "Epoch 17, Loss: 901.9141845703125, Accuracy: 1719.2127685546875, Test Loss: 946.5238037109375, Test Accuracy: 1710.388427734375\n",
      "Epoch 18, Loss: 965.0703125, Accuracy: 1718.7252197265625, Test Loss: 988.9976196289062, Test Accuracy: 1709.91650390625\n",
      "Epoch 19, Loss: 1008.8009643554688, Accuracy: 1718.192626953125, Test Loss: 1060.29296875, Test Accuracy: 1709.5072021484375\n",
      "Epoch 20, Loss: 1081.9796142578125, Accuracy: 1717.7578125, Test Loss: 1119.6513671875, Test Accuracy: 1709.236083984375\n"
     ]
    }
   ],
   "source": [
    "EPOCHS = 20\n",
    "epoch = 0\n",
    "for epoch in range(EPOCHS):\n",
    "    # Reset\n",
    "    train_loss.reset_states()\n",
    "    train_accuracy.reset_states()\n",
    "    test_loss.reset_states()\n",
    "    test_accuracy.reset_states()\n",
    "\n",
    "    train_step(train_X, train_Y)\n",
    "\n",
    "    test_step(test_X, test_Y)\n",
    "\n",
    "    print(\n",
    "    f'Epoch {epoch + 1}, '\n",
    "    f'Loss: {train_loss.result()}, '\n",
    "    f'Accuracy: {train_accuracy.result() * 100}, '\n",
    "    f'Test Loss: {test_loss.result()}, '\n",
    "    f'Test Accuracy: {test_accuracy.result() * 100}'\n",
    "    )"
   ],
   "metadata": {
    "collapsed": false,
    "pycharm": {
     "name": "#%%\n"
    }
   }
  },
  {
   "cell_type": "code",
   "execution_count": 195,
   "outputs": [
    {
     "name": "stdout",
     "output_type": "stream",
     "text": [
      "[1, 1, 0, 0, 0, 0, 0, 1, 0, 1, 1, 0, 0, 0, 1, 1]\n",
      "[0. 1. 1. 0. 0. 1. 0. 1. 0. 0. 1. 0. 0. 0. 0. 1.]\n"
     ]
    }
   ],
   "source": [
    "probability_model = tf.keras.Sequential([model,\n",
    "                                         tf.keras.layers.Softmax()])\n",
    "predictions = probability_model.predict(test_X)\n",
    "r = list(predictions[0])\n",
    "r1 = []\n",
    "for i in r:\n",
    "    if i > 0:\n",
    "        r1.append(1)\n",
    "    else:\n",
    "        r1.append(0)\n",
    "print(r1)\n",
    "print(test_Y[0])"
   ],
   "metadata": {
    "collapsed": false,
    "pycharm": {
     "name": "#%%\n"
    }
   }
  },
  {
   "cell_type": "code",
   "execution_count": null,
   "outputs": [],
   "source": [],
   "metadata": {
    "collapsed": false,
    "pycharm": {
     "name": "#%%\n"
    }
   }
  }
 ],
 "metadata": {
  "kernelspec": {
   "display_name": "Python 3",
   "language": "python",
   "name": "python3"
  },
  "language_info": {
   "codemirror_mode": {
    "name": "ipython",
    "version": 2
   },
   "file_extension": ".py",
   "mimetype": "text/x-python",
   "name": "python",
   "nbconvert_exporter": "python",
   "pygments_lexer": "ipython2",
   "version": "2.7.6"
  }
 },
 "nbformat": 4,
 "nbformat_minor": 0
}