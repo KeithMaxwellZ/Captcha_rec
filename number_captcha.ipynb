{
 "cells": [
  {
   "cell_type": "code",
   "execution_count": 74,
   "metadata": {
    "collapsed": true
   },
   "outputs": [],
   "source": [
    "import numpy as np\n",
    "import tensorflow as tf\n",
    "\n",
    "from matplotlib.pyplot import imshow\n",
    "\n",
    "from tensorflow.keras.layers import Dense, Flatten, Conv2D\n",
    "from tensorflow.keras import Model\n",
    "\n",
    "from PIL import Image\n",
    "\n",
    "from captcha.image import ImageCaptcha, random_color\n",
    "import random\n",
    "\n",
    "from tqdm import tqdm"
   ]
  },
  {
   "cell_type": "code",
   "execution_count": 75,
   "outputs": [],
   "source": [
    "CAPTCHA_LEN = 4\n",
    "BIN_LEN = 4"
   ],
   "metadata": {
    "collapsed": false,
    "pycharm": {
     "name": "#%%\n"
    }
   }
  },
  {
   "cell_type": "code",
   "execution_count": 76,
   "outputs": [
    {
     "name": "stdout",
     "output_type": "stream",
     "text": [
      "2834\n",
      "2834\n"
     ]
    }
   ],
   "source": [
    "def num2vec(raw_num: str):\n",
    "    \"\"\"\n",
    "    Convert a number captcha to vector with length CAPTCHA_LEN * BIN_LEN\n",
    "    :param raw_num: number for conversion\n",
    "    :return: converted vector\n",
    "    \"\"\"\n",
    "    print(raw_num)\n",
    "    res = \"\"\n",
    "    for i in raw_num:\n",
    "        res += format(int(i), '04b')\n",
    "\n",
    "    lst = []\n",
    "    for i in res:\n",
    "        lst.append(int(i))\n",
    "    return lst\n",
    "\n",
    "def vec2num(raw_lst: list):\n",
    "    \"\"\"\n",
    "    Convert a vector to number\n",
    "    :param raw_lst:\n",
    "    :return:\n",
    "    \"\"\"\n",
    "    p = 0\n",
    "    r = \"\"\n",
    "    while p < len(raw_lst):\n",
    "        t = raw_lst[p:p+BIN_LEN]\n",
    "        ts = \"\"\n",
    "        for i in t:\n",
    "            if i > 0:\n",
    "                ts += \"1\"\n",
    "            else:\n",
    "                ts += \"0\"\n",
    "        p += 4\n",
    "        r += str(int(ts, 2))\n",
    "\n",
    "    print(r)\n",
    "    return r\n",
    "\n",
    "r1 = num2vec(\"2834\")\n",
    "r2 = vec2num(r1)"
   ],
   "metadata": {
    "collapsed": false,
    "pycharm": {
     "name": "#%%\n"
    }
   }
  },
  {
   "cell_type": "code",
   "execution_count": 78,
   "outputs": [
    {
     "name": "stdout",
     "output_type": "stream",
     "text": [
      "<PIL.Image.Image image mode=RGB size=160x60 at 0x238D40C7D30>\n"
     ]
    }
   ],
   "source": [
    "def captcha_gen():\n",
    "    image_c = ImageCaptcha()\n",
    "    val = str(random.randint(1000, 9999))\n",
    "    img = image_c.create_captcha_image(val, color=random_color(0, 125), background=random_color(126, 255))\n",
    "    image_c.create_noise_dots(img, color=random_color(0, 255))\n",
    "    image_c.create_noise_curve(img, color=random_color(0, 255))\n",
    "\n",
    "    return img, val\n"
   ],
   "metadata": {
    "collapsed": false,
    "pycharm": {
     "name": "#%%\n"
    }
   }
  },
  {
   "cell_type": "code",
   "execution_count": null,
   "outputs": [],
   "source": [],
   "metadata": {
    "collapsed": false,
    "pycharm": {
     "name": "#%%\n"
    }
   }
  }
 ],
 "metadata": {
  "kernelspec": {
   "display_name": "Python 3",
   "language": "python",
   "name": "python3"
  },
  "language_info": {
   "codemirror_mode": {
    "name": "ipython",
    "version": 2
   },
   "file_extension": ".py",
   "mimetype": "text/x-python",
   "name": "python",
   "nbconvert_exporter": "python",
   "pygments_lexer": "ipython2",
   "version": "2.7.6"
  }
 },
 "nbformat": 4,
 "nbformat_minor": 0
}