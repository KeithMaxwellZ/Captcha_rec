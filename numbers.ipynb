{
 "cells": [
  {
   "cell_type": "code",
   "execution_count": 74,
   "outputs": [],
   "source": [
    "import numpy as np\n",
    "import tensorflow as tf\n",
    "\n",
    "from matplotlib.pyplot import imshow\n",
    "\n",
    "from tensorflow.keras.layers import Dense, Flatten, Conv2D\n",
    "from tensorflow.keras import Model\n",
    "\n",
    "from PIL import Image"
   ],
   "metadata": {
    "collapsed": false,
    "pycharm": {
     "name": "#%%\n"
    }
   }
  },
  {
   "cell_type": "code",
   "execution_count": 2,
   "outputs": [
    {
     "name": "stdout",
     "output_type": "stream",
     "text": [
      "Downloading data from https://storage.googleapis.com/tensorflow/tf-keras-datasets/mnist.npz\n",
      "11493376/11490434 [==============================] - 0s 0us/step\n"
     ]
    }
   ],
   "source": [
    "mnist = tf.keras.datasets.mnist\n",
    "\n",
    "(x_train, y_train), (x_test, y_test) = mnist.load_data()\n",
    "x_train, x_test = x_train / 255.0, x_test / 255.0\n",
    "\n",
    "x_train = x_train[..., tf.newaxis].astype(\"float32\")\n",
    "x_test = x_test[..., tf.newaxis].astype(\"float32\")"
   ],
   "metadata": {
    "collapsed": false,
    "pycharm": {
     "name": "#%%\n"
    }
   }
  },
  {
   "cell_type": "code",
   "execution_count": 66,
   "outputs": [
    {
     "name": "stdout",
     "output_type": "stream",
     "text": [
      "a 28\n",
      "b 28\n"
     ]
    }
   ],
   "source": [
    "def conv_image(raw):\n",
    "    new_r = raw * 255\n",
    "\n",
    "    r = np.zeros((28, 28))\n",
    "\n",
    "    for i in range(0, 28):\n",
    "        for j in range(0, 28):\n",
    "            r[i][j] = new_r[i][j]\n",
    "\n",
    "    print('a', len(r))\n",
    "    # print(x_train[0])\n",
    "    print('b', len(r[14]))\n",
    "\n",
    "    img = Image.fromarray(r)\n",
    "    return img\n",
    "img = conv_image(x_train[0])\n",
    "img.show()"
   ],
   "metadata": {
    "collapsed": false,
    "pycharm": {
     "name": "#%%\n"
    }
   }
  },
  {
   "cell_type": "code",
   "execution_count": 79,
   "outputs": [],
   "source": [
    "model = tf.keras.models.Sequential([\n",
    "  tf.keras.layers.Flatten(input_shape=(28, 28)),\n",
    "  tf.keras.layers.Dense(128, activation='relu'),\n",
    "  tf.keras.layers.Dense(128, activation='relu'),\n",
    "  tf.keras.layers.Dropout(0.2),\n",
    "  tf.keras.layers.Dense(10, activation='softmax')\n",
    "])\n",
    "\n",
    "model.compile(optimizer='adam',\n",
    "              loss='sparse_categorical_crossentropy',\n",
    "              metrics=['accuracy'])"
   ],
   "metadata": {
    "collapsed": false,
    "pycharm": {
     "name": "#%%\n"
    }
   }
  },
  {
   "cell_type": "code",
   "execution_count": 80,
   "outputs": [
    {
     "name": "stdout",
     "output_type": "stream",
     "text": [
      "Epoch 1/5\n",
      "1875/1875 [==============================] - 5s 3ms/step - loss: 0.2563 - accuracy: 0.9236\n",
      "Epoch 2/5\n",
      "1875/1875 [==============================] - 4s 2ms/step - loss: 0.1090 - accuracy: 0.9671\n",
      "Epoch 3/5\n",
      "1875/1875 [==============================] - 4s 2ms/step - loss: 0.0788 - accuracy: 0.9755\n",
      "Epoch 4/5\n",
      "1875/1875 [==============================] - 4s 2ms/step - loss: 0.0592 - accuracy: 0.9806\n",
      "Epoch 5/5\n",
      "1875/1875 [==============================] - 4s 2ms/step - loss: 0.0492 - accuracy: 0.9840\n",
      "313/313 - 1s - loss: 0.0745 - accuracy: 0.9776\n"
     ]
    },
    {
     "data": {
      "text/plain": "[0.07450373470783234, 0.9775999784469604]"
     },
     "execution_count": 80,
     "metadata": {},
     "output_type": "execute_result"
    }
   ],
   "source": [
    "model.fit(x_train, y_train, epochs=5)\n",
    "\n",
    "model.evaluate(x_test,  y_test, verbose=2)"
   ],
   "metadata": {
    "collapsed": false,
    "pycharm": {
     "name": "#%%\n"
    }
   }
  },
  {
   "cell_type": "code",
   "execution_count": 78,
   "outputs": [
    {
     "name": "stdout",
     "output_type": "stream",
     "text": [
      "Model: \"sequential_2\"\n",
      "_________________________________________________________________\n",
      "Layer (type)                 Output Shape              Param #   \n",
      "=================================================================\n",
      "flatten_2 (Flatten)          (None, 784)               0         \n",
      "_________________________________________________________________\n",
      "dense_4 (Dense)              (None, 128)               100480    \n",
      "_________________________________________________________________\n",
      "dropout_2 (Dropout)          (None, 128)               0         \n",
      "_________________________________________________________________\n",
      "dense_5 (Dense)              (None, 10)                1290      \n",
      "=================================================================\n",
      "Total params: 101,770\n",
      "Trainable params: 101,770\n",
      "Non-trainable params: 0\n",
      "_________________________________________________________________\n"
     ]
    }
   ],
   "source": [
    "model.summary()"
   ],
   "metadata": {
    "collapsed": false,
    "pycharm": {
     "name": "#%%\n"
    }
   }
  },
  {
   "cell_type": "code",
   "execution_count": 81,
   "outputs": [],
   "source": [
    "probability_model = tf.keras.Sequential([model,\n",
    "                                         tf.keras.layers.Softmax()])"
   ],
   "metadata": {
    "collapsed": false,
    "pycharm": {
     "name": "#%%\n"
    }
   }
  },
  {
   "cell_type": "code",
   "execution_count": 82,
   "outputs": [],
   "source": [
    "predictions = probability_model.predict(x_test)"
   ],
   "metadata": {
    "collapsed": false,
    "pycharm": {
     "name": "#%%\n"
    }
   }
  },
  {
   "cell_type": "code",
   "execution_count": 84,
   "outputs": [
    {
     "name": "stdout",
     "output_type": "stream",
     "text": [
      "[7 2 1 ... 4 5 6]\n"
     ]
    }
   ],
   "source": [
    "print(y_test)"
   ],
   "metadata": {
    "collapsed": false,
    "pycharm": {
     "name": "#%%\n"
    }
   }
  },
  {
   "cell_type": "code",
   "execution_count": 92,
   "outputs": [],
   "source": [
    "def display_img(i):\n",
    "    img = conv_image(x_test[i])\n",
    "    print(predictions[i])\n",
    "    print(np.max(predictions[i]))\n",
    "    print(np.where(predictions[i] == max(predictions[i])))\n",
    "    imshow(img)"
   ],
   "metadata": {
    "collapsed": false,
    "pycharm": {
     "name": "#%%\n"
    }
   }
  },
  {
   "cell_type": "code",
   "execution_count": 93,
   "outputs": [
    {
     "name": "stdout",
     "output_type": "stream",
     "text": [
      "a 28\n",
      "b 28\n",
      "[0.08806789 0.08806793 0.08814389 0.08806783 0.10652748 0.09568255\n",
      " 0.1805121  0.08806783 0.08807054 0.08879201]\n",
      "0.1805121\n",
      "(array([6], dtype=int64),)\n"
     ]
    },
    {
     "data": {
      "text/plain": "<Figure size 432x288 with 1 Axes>",
      "image/png": "[encoded data removed]"
     },
     "metadata": {
      "needs_background": "light"
     },
     "output_type": "display_data"
    }
   ],
   "source": [
    "display_img(8)"
   ],
   "metadata": {
    "collapsed": false,
    "pycharm": {
     "name": "#%%\n"
    }
   }
  },
  {
   "cell_type": "code",
   "execution_count": 90,
   "outputs": [
    {
     "name": "stdout",
     "output_type": "stream",
     "text": [
      "[8, 151, 233, 247, 321, 340, 359, 445, 495, 582, 613, 646, 684, 691, 720, 740, 846, 947, 951, 956, 965, 1014, 1032, 1039, 1112, 1156, 1182, 1194, 1226, 1232, 1242, 1247, 1260, 1272, 1319, 1325, 1328, 1331, 1378, 1393, 1414, 1425, 1522, 1530, 1549, 1553, 1609, 1621, 1671, 1681, 1751, 1754, 1790, 1850, 1878, 1899, 1901, 1952, 2004, 2016, 2024, 2035, 2040, 2044, 2052, 2053, 2098, 2109, 2118, 2130, 2135, 2272, 2293, 2369, 2387, 2395, 2406, 2422, 2433, 2462, 2488, 2597, 2607, 2631, 2654, 2720, 2721, 2743, 2810, 2863, 2927, 2939, 2961, 2990, 3012, 3030, 3060, 3062, 3115, 3117, 3289, 3475, 3503, 3520, 3533, 3549, 3558, 3567, 3597, 3629, 3662, 3702, 3718, 3727, 3751, 3776, 3780, 3811, 3838, 3869, 3893, 3906, 3941, 3951, 3968, 3976, 3985, 3988, 4065, 4075, 4078, 4176, 4177, 4199, 4248, 4271, 4289, 4355, 4360, 4374, 4400, 4419, 4497, 4534, 4536, 4551, 4567, 4571, 4601, 4639, 4699, 4740, 4751, 4761, 4807, 4823, 4833, 4880, 4956, 5140, 5176, 5183, 5201, 5331, 5495, 5634, 5642, 5676, 5734, 5749, 5835, 5936, 5937, 5955, 5972, 5973, 5982, 6045, 6059, 6421, 6505, 6555, 6571, 6574, 6597, 6603, 6608, 6632, 6651, 6755, 6783, 6847, 7216, 7800, 7821, 8059, 8246, 8255, 8277, 8279, 8294, 8325, 8527, 8863, 9009, 9015, 9024, 9422, 9587, 9634, 9664, 9692, 9700, 9729, 9745, 9749, 9768, 9770, 9779, 9792, 9808, 9811, 9839, 9944]\n"
     ]
    }
   ],
   "source": [
    "f = []\n",
    "for i in range(len(x_test)):\n",
    "    res = np.where(predictions[i] == max(predictions[i]))\n",
    "    res = res[0][0]\n",
    "    if res != y_test[i]:\n",
    "        f.append(i)\n",
    "\n",
    "print(f)"
   ],
   "metadata": {
    "collapsed": false,
    "pycharm": {
     "name": "#%%\n"
    }
   }
  }
 ],
 "metadata": {
  "kernelspec": {
   "display_name": "Python 3",
   "language": "python",
   "name": "python3"
  },
  "language_info": {
   "codemirror_mode": {
    "name": "ipython",
    "version": 2
   },
   "file_extension": ".py",
   "mimetype": "text/x-python",
   "name": "python",
   "nbconvert_exporter": "python",
   "pygments_lexer": "ipython2",
   "version": "2.7.6"
  }
 },
 "nbformat": 4,
 "nbformat_minor": 0
}